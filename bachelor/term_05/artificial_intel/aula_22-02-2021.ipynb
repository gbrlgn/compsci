{
  "nbformat": 4,
  "nbformat_minor": 0,
  "metadata": {
    "colab": {
      "name": "20210222_Sprint01_Recomendacao_Filmes.ipynb",
      "provenance": [],
      "collapsed_sections": []
    },
    "kernelspec": {
      "name": "python3",
      "display_name": "Python 3"
    }
  },
  "cells": [
    {
      "cell_type": "markdown",
      "metadata": {
        "id": "UFhamdSVy7kg"
      },
      "source": [
        "#O que e' proximidade (distancia)?"
      ]
    },
    {
      "cell_type": "code",
      "metadata": {
        "colab": {
          "base_uri": "https://localhost:8080/"
        },
        "id": "Ey-u9njcy2Eq",
        "outputId": "9f983670-3c1b-44cf-99f3-20edc0951028"
      },
      "source": [
        "# filme = senhor dos pasteis\n",
        "Thaynara = 4\n",
        "Lara = 1\n",
        "\n",
        "#distancia = Thaynara - Lara\n",
        "distancia = Lara - Thaynara\n",
        "\n",
        "print(distancia)"
      ],
      "execution_count": null,
      "outputs": [
        {
          "output_type": "stream",
          "text": [
            "-3\n"
          ],
          "name": "stdout"
        }
      ]
    },
    {
      "cell_type": "code",
      "metadata": {
        "colab": {
          "base_uri": "https://localhost:8080/"
        },
        "id": "a5FIzoTKzqu5",
        "outputId": "f0c4ae4f-ba3c-4269-f34f-aff19c46e8c4"
      },
      "source": [
        "Bruno = 3.5\n",
        "\n",
        "distancia_bruno_thaynara = Bruno - Thaynara\n",
        "distancia_bruno_lara = Bruno - Lara\n",
        "\n",
        "print(distancia_bruno_thaynara)\n",
        "print(distancia_bruno_lara)"
      ],
      "execution_count": null,
      "outputs": [
        {
          "output_type": "stream",
          "text": [
            "-0.5\n",
            "2.5\n"
          ],
          "name": "stdout"
        }
      ]
    },
    {
      "cell_type": "code",
      "metadata": {
        "colab": {
          "base_uri": "https://localhost:8080/",
          "height": 265
        },
        "id": "tQM2wm_s0VJr",
        "outputId": "51b38ed0-ca9c-42df-8059-17cc4d8d6d1e"
      },
      "source": [
        "import matplotlib.pyplot as plt # importando o matplotlib para plotar o grafico\n",
        "\n",
        "# filme 01 - senhor dos pasteis\n",
        "# filme 02 - dois carecas brigando por um pente\n",
        "\n",
        "#       x   y\n",
        "joao = [4, 4.5]\n",
        "lara = [5, 5]\n",
        "\n",
        "plt.plot(4, 4.5, \"go\")\n",
        "plt.plot(5, 5, \"yo\")\n",
        "plt.legend(['Joao', 'Lara'])\n",
        "\n",
        "plt.plot([4,5], [4.5, 4.5], color='b', linestyle='-')\n",
        "plt.plot([4,5], [4.5, 5],   color='b', linestyle='-')\n",
        "plt.plot([5,5], [4.5, 5],   color='b', linestyle='-')\n",
        "\n",
        "plt.show()"
      ],
      "execution_count": null,
      "outputs": [
        {
          "output_type": "display_data",
          "data": {
            "image/png": "[encoded data removed]",
            "text/plain": [
              "<Figure size 432x288 with 1 Axes>"
            ]
          },
          "metadata": {
            "tags": [],
            "needs_background": "light"
          }
        }
      ]
    },
    {
      "cell_type": "code",
      "metadata": {
        "colab": {
          "base_uri": "https://localhost:8080/",
          "height": 201
        },
        "id": "JTDaiZun2TZo",
        "outputId": "215f1e1d-6d5c-4098-88d5-742315f75b71"
      },
      "source": [
        "\n",
        "# ERRO TypeError: unsupported operand type(s) for -: 'list' and 'list'\n",
        "joao = [4, 4.5]\n",
        "lara = [5, 5]\n",
        "joao - lara\n"
      ],
      "execution_count": null,
      "outputs": [
        {
          "output_type": "error",
          "ename": "TypeError",
          "evalue": "ignored",
          "traceback": [
            "\u001b[0;31m---------------------------------------------------------------------------\u001b[0m",
            "\u001b[0;31mTypeError\u001b[0m                                 Traceback (most recent call last)",
            "\u001b[0;32m<ipython-input-9-1a7f8a5d06f7>\u001b[0m in \u001b[0;36m<module>\u001b[0;34m()\u001b[0m\n\u001b[1;32m      3\u001b[0m \u001b[0mjoao\u001b[0m \u001b[0;34m=\u001b[0m \u001b[0;34m[\u001b[0m\u001b[0;36m4\u001b[0m\u001b[0;34m,\u001b[0m \u001b[0;36m4.5\u001b[0m\u001b[0;34m]\u001b[0m\u001b[0;34m\u001b[0m\u001b[0;34m\u001b[0m\u001b[0m\n\u001b[1;32m      4\u001b[0m \u001b[0mlara\u001b[0m \u001b[0;34m=\u001b[0m \u001b[0;34m[\u001b[0m\u001b[0;36m5\u001b[0m\u001b[0;34m,\u001b[0m \u001b[0;36m5\u001b[0m\u001b[0;34m]\u001b[0m\u001b[0;34m\u001b[0m\u001b[0;34m\u001b[0m\u001b[0m\n\u001b[0;32m----> 5\u001b[0;31m \u001b[0mjoao\u001b[0m \u001b[0;34m-\u001b[0m \u001b[0mlara\u001b[0m\u001b[0;34m\u001b[0m\u001b[0;34m\u001b[0m\u001b[0m\n\u001b[0m",
            "\u001b[0;31mTypeError\u001b[0m: unsupported operand type(s) for -: 'list' and 'list'"
          ]
        }
      ]
    },
    {
      "cell_type": "code",
      "metadata": {
        "colab": {
          "base_uri": "https://localhost:8080/"
        },
        "id": "RDwe0PxI25bL",
        "outputId": "15512ac9-c10c-47ea-de90-1f50685f2381"
      },
      "source": [
        "import numpy as np\n",
        "\n",
        "joao = np.array([4, 4.5])\n",
        "lara = np.array([5, 5])\n",
        "\n",
        "joao - lara"
      ],
      "execution_count": null,
      "outputs": [
        {
          "output_type": "execute_result",
          "data": {
            "text/plain": [
              "array([-1. , -0.5])"
            ]
          },
          "metadata": {
            "tags": []
          },
          "execution_count": 10
        }
      ]
    },
    {
      "cell_type": "code",
      "metadata": {
        "colab": {
          "base_uri": "https://localhost:8080/"
        },
        "id": "tvI8Fy1H3WRd",
        "outputId": "7053fb6a-14a5-4ce3-d588-e131a69479b8"
      },
      "source": [
        "np.linalg.norm(joao - lara)"
      ],
      "execution_count": null,
      "outputs": [
        {
          "output_type": "execute_result",
          "data": {
            "text/plain": [
              "1.118033988749895"
            ]
          },
          "metadata": {
            "tags": []
          },
          "execution_count": 12
        }
      ]
    },
    {
      "cell_type": "code",
      "metadata": {
        "colab": {
          "base_uri": "https://localhost:8080/",
          "height": 265
        },
        "id": "jo1LHrdu3xvv",
        "outputId": "017abf96-a81d-4094-def6-7789bdcbec2b"
      },
      "source": [
        "leonardo = np.array([3, 4.5])\n",
        "\n",
        "plt.plot(4, 4.5, \"go\")\n",
        "plt.plot(5, 5, \"yo\")\n",
        "plt.plot(3, 4.5, \"bo\")\n",
        "plt.legend(['Joao', 'Lara', 'Leonardo'])\n",
        "\n",
        "plt.show()"
      ],
      "execution_count": null,
      "outputs": [
        {
          "output_type": "display_data",
          "data": {
            "image/png": "[encoded data removed]",
            "text/plain": [
              "<Figure size 432x288 with 1 Axes>"
            ]
          },
          "metadata": {
            "tags": [],
            "needs_background": "light"
          }
        }
      ]
    },
    {
      "cell_type": "code",
      "metadata": {
        "colab": {
          "base_uri": "https://localhost:8080/"
        },
        "id": "tVZ_tzKN4LsY",
        "outputId": "3f181370-6d0c-438f-9bb7-e528855cdf5a"
      },
      "source": [
        "joao = np.array([4, 4.5])\n",
        "lara = np.array([5, 5])\n",
        "leonardo = np.array([3, 4.5])\n",
        "\n",
        "print(f'Distancia de Leonardo para Joao eh de {np.linalg.norm(leonardo - joao)}')\n",
        "print(f'Distancia de Leonardo para Lara eh de {np.linalg.norm(leonardo - lara)}')"
      ],
      "execution_count": null,
      "outputs": [
        {
          "output_type": "stream",
          "text": [
            "Distancia de Leonardo para Joao eh de 1.0\n",
            "Distancia de Leonardo para Lara eh de 2.0615528128088303\n"
          ],
          "name": "stdout"
        }
      ]
    },
    {
      "cell_type": "markdown",
      "metadata": {
        "id": "xGJo9JnY5d40"
      },
      "source": [
        "#Buscar indicacao por meio do kmeans"
      ]
    },
    {
      "cell_type": "code",
      "metadata": {
        "colab": {
          "base_uri": "https://localhost:8080/",
          "height": 233
        },
        "id": "pq9453Ia5izy",
        "outputId": "17153792-22b3-4b81-e8b8-11c0c31f86f9"
      },
      "source": [
        "import pandas as pd\n",
        "\n",
        "# Criacao do DataFrame de Filmes\n",
        "\n",
        "df_filmes         = pd.read_csv('/content/drive/MyDrive/Dataset/movies.csv')\n",
        "df_filmes.columns = ['filme_id', 'titulo', 'generos']\n",
        "df_filmes         = df_filmes.set_index('filme_id')\n",
        "\n",
        "df_filmes.head()"
      ],
      "execution_count": null,
      "outputs": [
        {
          "output_type": "execute_result",
          "data": {
            "text/html": [
              "<div>\n",
              "<style scoped>\n",
              "    .dataframe tbody tr th:only-of-type {\n",
              "        vertical-align: middle;\n",
              "    }\n",
              "\n",
              "    .dataframe tbody tr th {\n",
              "        vertical-align: top;\n",
              "    }\n",
              "\n",
              "    .dataframe thead th {\n",
              "        text-align: right;\n",
              "    }\n",
              "</style>\n",
              "<table border=\"1\" class=\"dataframe\">\n",
              "  <thead>\n",
              "    <tr style=\"text-align: right;\">\n",
              "      <th></th>\n",
              "      <th>titulo</th>\n",
              "      <th>generos</th>\n",
              "    </tr>\n",
              "    <tr>\n",
              "      <th>filme_id</th>\n",
              "      <th></th>\n",
              "      <th></th>\n",
              "    </tr>\n",
              "  </thead>\n",
              "  <tbody>\n",
              "    <tr>\n",
              "      <th>1</th>\n",
              "      <td>Toy Story (1995)</td>\n",
              "      <td>Adventure|Animation|Children|Comedy|Fantasy</td>\n",
              "    </tr>\n",
              "    <tr>\n",
              "      <th>2</th>\n",
              "      <td>Jumanji (1995)</td>\n",
              "      <td>Adventure|Children|Fantasy</td>\n",
              "    </tr>\n",
              "    <tr>\n",
              "      <th>3</th>\n",
              "      <td>Grumpier Old Men (1995)</td>\n",
              "      <td>Comedy|Romance</td>\n",
              "    </tr>\n",
              "    <tr>\n",
              "      <th>4</th>\n",
              "      <td>Waiting to Exhale (1995)</td>\n",
              "      <td>Comedy|Drama|Romance</td>\n",
              "    </tr>\n",
              "    <tr>\n",
              "      <th>5</th>\n",
              "      <td>Father of the Bride Part II (1995)</td>\n",
              "      <td>Comedy</td>\n",
              "    </tr>\n",
              "  </tbody>\n",
              "</table>\n",
              "</div>"
            ],
            "text/plain": [
              "                                      titulo                                      generos\n",
              "filme_id                                                                                 \n",
              "1                           Toy Story (1995)  Adventure|Animation|Children|Comedy|Fantasy\n",
              "2                             Jumanji (1995)                   Adventure|Children|Fantasy\n",
              "3                    Grumpier Old Men (1995)                               Comedy|Romance\n",
              "4                   Waiting to Exhale (1995)                         Comedy|Drama|Romance\n",
              "5         Father of the Bride Part II (1995)                                       Comedy"
            ]
          },
          "metadata": {
            "tags": []
          },
          "execution_count": 16
        }
      ]
    },
    {
      "cell_type": "code",
      "metadata": {
        "colab": {
          "base_uri": "https://localhost:8080/",
          "height": 202
        },
        "id": "qjUzVBS85_yO",
        "outputId": "67159826-c7e9-45a0-9188-38629cfb79d7"
      },
      "source": [
        "# Criacao do DataFrame de votos\n",
        "\n",
        "df_votos         = pd.read_csv('/content/drive/MyDrive/Dataset/ratings.csv')\n",
        "df_votos.columns = ['cliente_id', 'filme_id', 'voto', 'registro']\n",
        "\n",
        "df_votos.head()"
      ],
      "execution_count": null,
      "outputs": [
        {
          "output_type": "execute_result",
          "data": {
            "text/html": [
              "<div>\n",
              "<style scoped>\n",
              "    .dataframe tbody tr th:only-of-type {\n",
              "        vertical-align: middle;\n",
              "    }\n",
              "\n",
              "    .dataframe tbody tr th {\n",
              "        vertical-align: top;\n",
              "    }\n",
              "\n",
              "    .dataframe thead th {\n",
              "        text-align: right;\n",
              "    }\n",
              "</style>\n",
              "<table border=\"1\" class=\"dataframe\">\n",
              "  <thead>\n",
              "    <tr style=\"text-align: right;\">\n",
              "      <th></th>\n",
              "      <th>cliente_id</th>\n",
              "      <th>filme_id</th>\n",
              "      <th>voto</th>\n",
              "      <th>registro</th>\n",
              "    </tr>\n",
              "  </thead>\n",
              "  <tbody>\n",
              "    <tr>\n",
              "      <th>0</th>\n",
              "      <td>1</td>\n",
              "      <td>1</td>\n",
              "      <td>4.0</td>\n",
              "      <td>964982703</td>\n",
              "    </tr>\n",
              "    <tr>\n",
              "      <th>1</th>\n",
              "      <td>1</td>\n",
              "      <td>3</td>\n",
              "      <td>4.0</td>\n",
              "      <td>964981247</td>\n",
              "    </tr>\n",
              "    <tr>\n",
              "      <th>2</th>\n",
              "      <td>1</td>\n",
              "      <td>6</td>\n",
              "      <td>4.0</td>\n",
              "      <td>964982224</td>\n",
              "    </tr>\n",
              "    <tr>\n",
              "      <th>3</th>\n",
              "      <td>1</td>\n",
              "      <td>47</td>\n",
              "      <td>5.0</td>\n",
              "      <td>964983815</td>\n",
              "    </tr>\n",
              "    <tr>\n",
              "      <th>4</th>\n",
              "      <td>1</td>\n",
              "      <td>50</td>\n",
              "      <td>5.0</td>\n",
              "      <td>964982931</td>\n",
              "    </tr>\n",
              "  </tbody>\n",
              "</table>\n",
              "</div>"
            ],
            "text/plain": [
              "   cliente_id  filme_id  voto   registro\n",
              "0           1         1   4.0  964982703\n",
              "1           1         3   4.0  964981247\n",
              "2           1         6   4.0  964982224\n",
              "3           1        47   5.0  964983815\n",
              "4           1        50   5.0  964982931"
            ]
          },
          "metadata": {
            "tags": []
          },
          "execution_count": 17
        }
      ]
    }
  ]
}