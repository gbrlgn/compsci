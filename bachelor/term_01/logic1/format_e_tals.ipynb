{
  "nbformat": 4,
  "nbformat_minor": 0,
  "metadata": {
    "colab": {
      "name": "format_e_tals.ipynb",
      "version": "0.3.2",
      "provenance": [],
      "collapsed_sections": []
    },
    "kernelspec": {
      "name": "python3",
      "display_name": "Python 3"
    }
  },
  "cells": [
    {
      "cell_type": "code",
      "metadata": {
        "id": "0w0AZWEEiBrh",
        "colab_type": "code",
        "colab": {}
      },
      "source": [
        "resto = 0\n",
        "qtd = int(input(\"Informe a quantidade: \"))\n",
        "\n",
        "while qtd < 100:\n",
        "  if qtd == 0:\n",
        "    print(\"Sem embalagem.\")\n",
        "    break\n",
        "  else:\n",
        "    qtd = int(input(\"Informe a quantidade: \"))\n",
        "\n",
        "else:\n",
        "  while qtd >= 10:\n",
        "    qtd = qtd - 10\n",
        "    resto = resto + 1\n",
        "    print(\"{} pacotes criados, sobraram {}.\".format(resto,qtd))"
      ],
      "execution_count": 0,
      "outputs": []
    }
  ]
}