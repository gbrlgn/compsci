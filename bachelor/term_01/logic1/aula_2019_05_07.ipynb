{
  "nbformat": 4,
  "nbformat_minor": 0,
  "metadata": {
    "colab": {
      "name": "aula_2019-05-07.ipynb",
      "version": "0.3.2",
      "provenance": [],
      "collapsed_sections": []
    },
    "kernelspec": {
      "name": "python3",
      "display_name": "Python 3"
    }
  },
  "cells": [
    {
      "cell_type": "code",
      "metadata": {
        "id": "t1qYtYlij4ST",
        "colab_type": "code",
        "colab": {}
      },
      "source": [
        "lst_1, lst_2 = [1,2,3,4,5,6], [\"a\", 1, \"José\", \"Livro\", 3.4]\n",
        "print(\"O maior valor é: \", max(lst_1))\n",
        "print(\"O menor valor é: \", min(lst_1))"
      ],
      "execution_count": 0,
      "outputs": []
    },
    {
      "cell_type": "code",
      "metadata": {
        "id": "ovEt4MffmTrg",
        "colab_type": "code",
        "colab": {}
      },
      "source": [
        "nome = \"Arara Azul\"#.upper()\n",
        "lst = list(nome)#.upper())\n",
        "print(nome)\n",
        "print(lst)\n",
        "\n",
        "print(\"Número de ocorrências da letra a é: \", lst.count(\"a\"))"
      ],
      "execution_count": 0,
      "outputs": []
    },
    {
      "cell_type": "code",
      "metadata": {
        "id": "bskEoxSjo8-Y",
        "colab_type": "code",
        "colab": {}
      },
      "source": [
        "lst_nome = list(\"Nietzsche\")\n",
        "lst_val = list(range(5))\n",
        "\n",
        "print(lst_val)\n",
        "print(lst_nome)\n",
        "\n",
        "lst_val.extend(lst_nome)#append só que anexa outra lista ao invés de um valor\n",
        "print(lst_val)\n",
        "\n",
        "print(lst_val.index(\"N\"))#mostra a posição do valor\n",
        "\n",
        "lst_val.remove(\"N\")#remove o valor específico sem a posição\n",
        "print(lst_val)"
      ],
      "execution_count": 0,
      "outputs": []
    },
    {
      "cell_type": "code",
      "metadata": {
        "id": "3-QWKUT9qV9m",
        "colab_type": "code",
        "colab": {}
      },
      "source": [
        "lst_nome = list(\"Nietzsche\")\n",
        "lst_val = list(range(5))\n",
        "\n",
        "print(lst_val)\n",
        "print(lst_nome)\n",
        "\n",
        "lst_val.extend(lst_nome)#append só que anexa outra lista ao invés de um valor\n",
        "print(lst_val)\n",
        "\n",
        "print(lst_val.index(\"N\"))#mostra a posição do valor\n",
        "\n",
        "print(lst_val[5].del))"
      ],
      "execution_count": 0,
      "outputs": []
    },
    {
      "cell_type": "code",
      "metadata": {
        "id": "P3UbthWrqjd3",
        "colab_type": "code",
        "colab": {}
      },
      "source": [
        "lst = list(\"Napoleão Bonaparte\")\n",
        "print(lst)\n",
        "print(lst.sort())"
      ],
      "execution_count": 0,
      "outputs": []
    },
    {
      "cell_type": "code",
      "metadata": {
        "id": "-pUrfPrzlNBW",
        "colab_type": "code",
        "colab": {}
      },
      "source": [
        "#Maior valor em C\n",
        "\n",
        "lst = [1,2,3,4,5,6]\n",
        "\n",
        "for i \n",
        "  temp = lst[i]\n",
        "  if max > temp\n",
        "    max = temp"
      ],
      "execution_count": 0,
      "outputs": []
    }
  ]
}