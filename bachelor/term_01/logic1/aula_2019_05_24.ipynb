{
  "nbformat": 4,
  "nbformat_minor": 0,
  "metadata": {
    "colab": {
      "name": "aula_2019-05-24.ipynb",
      "version": "0.3.2",
      "provenance": [],
      "collapsed_sections": []
    },
    "kernelspec": {
      "name": "python3",
      "display_name": "Python 3"
    }
  },
  "cells": [
    {
      "cell_type": "code",
      "metadata": {
        "id": "qBXVRnBj8xpO",
        "colab_type": "code",
        "colab": {}
      },
      "source": [
        "#erradaço\n",
        "\n",
        "str_nome = ()\n",
        "flo_salario = ()\n",
        "flo_taxa = ()\n",
        "\n",
        "nome = []\n",
        "salario = []\n",
        "taxa = []\n",
        "\n",
        "def tax015(x):\n",
        "  x*0.15\n",
        "  \n",
        "def tax020(x):\n",
        "  x*0.20\n",
        "\n",
        "\n",
        "while True:\n",
        "  str_nome = input(\"Qual é o seu nome? \")\n",
        "  if str_nome.upper() == \"FIM\":\n",
        "    break\n",
        "  nome.append(str_nome)\n",
        "  \n",
        "  flo_salario = float(input(\"Quanto é o seu salário (em reais)? \"))\n",
        "  if flo_salario == \"0\":\n",
        "    break\n",
        "  \n",
        "  if flo_salario > 1000 and flo_salario <= 3000:\n",
        "    flo_salario = tax015(flo_salario)\n",
        "    salario.append(flo(flo_salario))\n",
        "    taxa.append(0.15)\n",
        "           \n",
        "  else:\n",
        "    flo_salario = tax020(flo_salario)\n",
        "    salario.append(flo(flo_salario))\n",
        "    taxa.append(0.20)\n",
        "\n",
        "  salario.append(int(flo_salario))\n",
        "\n",
        "print(nome)\n",
        "print(salario)\n",
        "print(taxa)\n",
        "\n",
        "print('Fim.')"
      ],
      "execution_count": 0,
      "outputs": []
    }
  ]
}