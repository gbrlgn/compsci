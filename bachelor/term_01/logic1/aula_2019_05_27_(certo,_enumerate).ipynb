{
  "nbformat": 4,
  "nbformat_minor": 0,
  "metadata": {
    "colab": {
      "name": "aula_2019-05-27_(certo, enumerate).ipynb",
      "version": "0.3.2",
      "provenance": [],
      "collapsed_sections": []
    },
    "kernelspec": {
      "name": "python3",
      "display_name": "Python 3"
    }
  },
  "cells": [
    {
      "cell_type": "code",
      "metadata": {
        "id": "hWfhMeoyvr5-",
        "colab_type": "code",
        "outputId": "a76f3683-0760-43f5-bb8b-32aadccc3f46",
        "colab": {
          "base_uri": "https://localhost:8080/",
          "height": 276
        }
      },
      "source": [
        "nome = []\n",
        "salario = []\n",
        "taxa = []\n",
        "\n",
        "def valores_print():\n",
        "  for p, n in enumerate(nome):\n",
        "    print(\"{} - {} - {}\".format(n, salario[p], taxa[p]))\n",
        "\n",
        "def calculo(salario):\n",
        "  if salario <= 1000:\n",
        "    return 0\n",
        "  elif salario > 1000 and salario <= 3000:\n",
        "    return salario * 0.15\n",
        "  else: \n",
        "    return salario * 0.20\n",
        "\n",
        "while True:\n",
        "  v_nome = input(\"Informe seu nome: \")\n",
        "  if v_nome.upper() == \"FIM\":\n",
        "    break\n",
        "  v_salario = float(input(\"Informe seu salario: \"))\n",
        "  nome.append(v_nome)\n",
        "  salario.append(v_salario)\n",
        "  taxa.append(calculo(v_salario))\n",
        "  \n",
        "valores_print()\n",
        "  \n",
        "print(nome)\n",
        "print(salario)\n",
        "print(taxa)\n",
        "\n",
        "print(\"Fim!\")"
      ],
      "execution_count": 0,
      "outputs": [
        {
          "output_type": "stream",
          "text": [
            "Informe seu nome: jhrjrj\n",
            "Informe seu salario: 1000\n",
            "Informe seu nome: bfhg\n",
            "Informe seu salario: 33433\n",
            "Informe seu nome: nfgnfn\n",
            "Informe seu salario: 300\n",
            "Informe seu nome: fim\n",
            "jhrjrj - 1000.0 - 0\n",
            "bfhg - 33433.0 - 6686.6\n",
            "nfgnfn - 300.0 - 0\n",
            "['jhrjrj', 'bfhg', 'nfgnfn']\n",
            "[1000.0, 33433.0, 300.0]\n",
            "[0, 6686.6, 0]\n",
            "Fim!\n"
          ],
          "name": "stdout"
        }
      ]
    }
  ]
}