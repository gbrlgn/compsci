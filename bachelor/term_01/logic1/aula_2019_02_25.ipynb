{
  "nbformat": 4,
  "nbformat_minor": 0,
  "metadata": {
    "colab": {
      "name": "aula_2019-02-25.ipynb",
      "version": "0.3.2",
      "provenance": [],
      "collapsed_sections": []
    },
    "kernelspec": {
      "name": "python3",
      "display_name": "Python 3"
    }
  },
  "cells": [
    {
      "cell_type": "code",
      "metadata": {
        "id": "_34DwqjAJoaC",
        "colab_type": "code",
        "colab": {}
      },
      "source": [
        "a = 10\n",
        "b = 20\n",
        "\n",
        "while a < b:\n",
        "  print(a)\n",
        "  a += 1\n",
        "\n",
        "if a > b:\n",
        "  print(\"a é maior que b\")\n",
        "else:\n",
        "  print(\"a não é maior que b\")\n",
        " \n",
        "print(\"Fim!\")"
      ],
      "execution_count": 0,
      "outputs": []
    }
  ]
}