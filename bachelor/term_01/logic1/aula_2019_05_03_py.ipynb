{
  "nbformat": 4,
  "nbformat_minor": 0,
  "metadata": {
    "colab": {
      "name": "aula_2019-05-03.py",
      "version": "0.3.2",
      "provenance": [],
      "collapsed_sections": []
    },
    "kernelspec": {
      "name": "python3",
      "display_name": "Python 3"
    }
  },
  "cells": [
    {
      "cell_type": "code",
      "metadata": {
        "id": "JLxjluYAyTck",
        "colab_type": "code",
        "colab": {}
      },
      "source": [
        "import numpy as np \n",
        "\n",
        "import matplotlib.pyplot as plt\n",
        "\n",
        "x = np.linspace(0,2 * np.pi, 20) #multiplica 0,1 - 2,0 por pi\n",
        "\n",
        "print(len(x))\n",
        "print(x)\n",
        "\n",
        "print()\n",
        "\n",
        "y = np.sin(x)\n",
        "\n",
        "print(len(y))\n",
        "print(y)\n",
        "\n",
        "yp = None\n",
        "xi = np.linspace(x[0], x[-1], 100)\n",
        "yi = np.interp(xi, x, y, yp)\n",
        "\n",
        "print()\n",
        "\n",
        "fig, ax = plt.subplots()\n",
        "ax.plot(x,y,\"o\", xi, yi, \".\")\n",
        "plt.show()\n",
        "\n",
        "print(\"Fim\")"
      ],
      "execution_count": 0,
      "outputs": []
    },
    {
      "cell_type": "code",
      "metadata": {
        "id": "14HpP6my7KQE",
        "colab_type": "code",
        "colab": {}
      },
      "source": [
        "lst_1 = [1, 2, 3 ,4 ,5]\n",
        "lst_1[3] = (\"Troquei baby baby\")\n",
        "print(lst_1)\n",
        "\n",
        "lst_1.append(\"Bacon\")\n",
        "print(lst_1[0])\n",
        "print(lst_1[len(lst_1)-1])\n",
        "print(lst_1[-1])"
      ],
      "execution_count": 0,
      "outputs": []
    },
    {
      "cell_type": "code",
      "metadata": {
        "id": "d7LpGo1W3lIW",
        "colab_type": "code",
        "colab": {}
      },
      "source": [
        "#Em C\n",
        "\n",
        "for (int i=0; i<20; i++){\n",
        "    y[i] = sin(x[i])\n",
        "}    "
      ],
      "execution_count": 0,
      "outputs": []
    }
  ]
}