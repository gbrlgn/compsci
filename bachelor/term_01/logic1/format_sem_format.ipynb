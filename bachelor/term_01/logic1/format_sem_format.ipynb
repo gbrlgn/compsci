{
  "nbformat": 4,
  "nbformat_minor": 0,
  "metadata": {
    "colab": {
      "name": "%.ipynb",
      "version": "0.3.2",
      "provenance": [],
      "collapsed_sections": []
    },
    "kernelspec": {
      "name": "python3",
      "display_name": "Python 3"
    }
  },
  "cells": [
    {
      "cell_type": "code",
      "metadata": {
        "id": "teNmtWinXaQf",
        "colab_type": "code",
        "colab": {}
      },
      "source": [
        "# Pra colocar a variável dentro do texto do print\n",
        "numero_de_bananas = int(input(\"Quantas bananas você tem?\"))\n",
        "print(\"Oloko bichu, %i bananas!\"%numero_de_bananas)"
      ],
      "execution_count": 0,
      "outputs": []
    }
  ]
}