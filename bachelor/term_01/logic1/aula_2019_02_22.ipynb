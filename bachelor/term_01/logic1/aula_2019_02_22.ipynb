{
  "nbformat": 4,
  "nbformat_minor": 0,
  "metadata": {
    "colab": {
      "name": "aula_2019-02-22.ipynb",
      "version": "0.3.2",
      "provenance": [],
      "collapsed_sections": []
    },
    "kernelspec": {
      "name": "python3",
      "display_name": "Python 3"
    }
  },
  "cells": [
    {
      "cell_type": "code",
      "metadata": {
        "id": "6d7pqjdzsfwu",
        "colab_type": "code",
        "colab": {}
      },
      "source": [
        "# print(\"Qual é a sua idade?\") pra que fazer isso parça usa input(\"\") \n",
        "\n",
        "idade = input(\"Qual é a sua idade?\")\n",
        "\n",
        "if int(idade) >= 18:\n",
        "  nome = input(\"Qual é seu nome?\")\n",
        "  if nome == \"Rosicreuda\": # == compara valores (true ou false) \n",
        "    print(\"Nome feio da porra slc\")\n",
        "  else:\n",
        "    print(nome)\n",
        "else:\n",
        "  print(\"Deixa quieto, dá cadeia\")\n",
        "  \n",
        "print(\"Fim!\")\n",
        "    "
      ],
      "execution_count": 0,
      "outputs": []
    }
  ]
}