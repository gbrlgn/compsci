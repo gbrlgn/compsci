{
  "nbformat": 4,
  "nbformat_minor": 0,
  "metadata": {
    "colab": {
      "name": "Lista de Exercícios.ipynb",
      "version": "0.3.2",
      "provenance": [],
      "collapsed_sections": []
    },
    "kernelspec": {
      "name": "python3",
      "display_name": "Python 3"
    }
  },
  "cells": [
    {
      "cell_type": "code",
      "metadata": {
        "id": "GbTALjQDYIFn",
        "colab_type": "code",
        "colab": {}
      },
      "source": [
        "#Cenário 01\n",
        "\n",
        "int_idade = int(input(\"Qual é a sua idade? \"))\n",
        "\n",
        "if int_idade > 18:\n",
        "  print(\"Você é maior de idade.\")"
      ],
      "execution_count": 0,
      "outputs": []
    },
    {
      "cell_type": "code",
      "metadata": {
        "id": "ua8Ebk1PZw68",
        "colab_type": "code",
        "colab": {}
      },
      "source": [
        "#Cenário 02\n",
        "\n",
        "int_idade = int(input(\"Qual é a sua idade? \"))\n",
        "\n",
        "if int_idade > 18:\n",
        "  print(\"Você é maior de idade.\")\n",
        "else:\n",
        "  print(\"Você tem menos de 18 anos.\")"
      ],
      "execution_count": 0,
      "outputs": []
    },
    {
      "cell_type": "code",
      "metadata": {
        "id": "Y5f95W-faNrc",
        "colab_type": "code",
        "colab": {}
      },
      "source": [
        "#Cenário 03\n",
        "\n",
        "str_cidade = input(\"Você mora em Guaxupé? (S)im ou (N)ão \")\n",
        "\n",
        "if str_cidade == \"S\":\n",
        "  int_idade = int(input(\"Qual é a sua idade? \"))\n",
        "  if int_idade > 18:\n",
        "    print(\"Feliz morador da cidade de Guaxupé com mais de 18 anos.\")\n",
        "\n",
        "elif str_cidade == \"N\":\n",
        "  print(\"Que pena, Guaxupé é uma cidade linda.\")"
      ],
      "execution_count": 0,
      "outputs": []
    },
    {
      "cell_type": "code",
      "metadata": {
        "id": "obE4WSAObeSy",
        "colab_type": "code",
        "colab": {}
      },
      "source": [
        "#Cenário 04\n",
        "\n",
        "str_cidade = input(\"Você mora em Guaxupé? (S)im ou (N)ão \")\n",
        "\n",
        "if str_cidade == \"S\":\n",
        "  int_idade = int(input(\"Qual é a sua idade? \"))\n",
        "  if int_idade > 18:\n",
        "    print(\"Feliz morador da cidade de Guaxupé com mais de 18 anos.\")\n",
        "  else: \n",
        "    print(\"Mais um infante morador de Guaxupé.\")\n",
        "\n",
        "if str_cidade == \"N\":\n",
        "  \n",
        "  str_interesse = input(\"Você tem interesse em se mudar para Guaxupé? (S)im ou (N)ão \")\n",
        "  \n",
        "  if str_interesse == \"S\":\n",
        "    print(\"Que bom, será muito bem vindo a Guaxupé.\")\n",
        "  elif str_interesse == \"N\":\n",
        "    print(\"OK, também fico feliz em saber que és feliz onde mora.\")"
      ],
      "execution_count": 0,
      "outputs": []
    },
    {
      "cell_type": "code",
      "metadata": {
        "id": "n4WwxuN5FaTS",
        "colab_type": "code",
        "colab": {}
      },
      "source": [
        "#Cenário 05\n",
        "\n",
        "int_soma = 0\n",
        "\n",
        "while True:\n",
        "  int_valor = int(input(\"Informe um valor: \"))\n",
        "  \n",
        "  if int_valor == 0:\n",
        "    print(\"A soma dos valores é {}.\".format(int_soma))\n",
        "    break\n",
        "  \n",
        "  elif int_valor > 0 and int_valor < 10:\n",
        "    int_soma += int_valor\n",
        "    \n",
        "  else:\n",
        "    print(\"Valor incorreto. Informe um valor válido.\")"
      ],
      "execution_count": 0,
      "outputs": []
    },
    {
      "cell_type": "code",
      "metadata": {
        "id": "b_8JUlMiIRPs",
        "colab_type": "code",
        "colab": {}
      },
      "source": [
        "#Cenário 06\n",
        "\n",
        "int_total = 0\n",
        "listaTotal = []\n",
        "\n",
        "while True:\n",
        "  int_valor = int(input(\"Informe o valor a ser somado: \"))\n",
        "  \n",
        "  if int_valor == 0:\n",
        "    print(\"Total da soma: {}, número de elementos: {} e lista de elementos {}.\".format(int_total,len(listaTotal),listaTotal))\n",
        "    break\n",
        "  \n",
        "  elif int_valor > 0 and int_valor < 10:\n",
        "    int_total += int_valor # total = total + valor\n",
        "    listaTotal.append(int_valor)\n",
        "  \n",
        "  else:\n",
        "    print(\"Valor incorreto. Informe um valor válido.\")"
      ],
      "execution_count": 0,
      "outputs": []
    }
  ]
}