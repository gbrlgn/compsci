{
  "nbformat": 4,
  "nbformat_minor": 0,
  "metadata": {
    "colab": {
      "name": "Projeto_01.ipynb",
      "version": "0.3.2",
      "provenance": [],
      "collapsed_sections": []
    },
    "kernelspec": {
      "name": "python3",
      "display_name": "Python 3"
    }
  },
  "cells": [
    {
      "cell_type": "code",
      "metadata": {
        "id": "vKuE8Hw0eqt3",
        "colab_type": "code",
        "colab": {}
      },
      "source": [
        "quantidade = int(input(\"Favor informar a quantidade a ser embalada: \"))\n",
        "\n",
        "while True:\n",
        "  if quantidade <= 0:\n",
        "    print(\"Sem embalagens.\")\n",
        "    print(\"Fim da aplicação.\")\n",
        "    break\n",
        "  else:\n",
        "    if quantidade <= 100:\n",
        "      quantidade = int(input(\"Favor informar a quantidade a ser embalada: \"))           \n",
        "    else: \n",
        "      while True:\n",
        "        quantidade = quantidade - 10\n",
        "        print(\"%i embalagens criadas.\"%quantidade)\n",
        "        if quantidade < 10:\n",
        "          print(\"Sobrou(aram) %i embalagem(ns).\"%quantidade)\n",
        "          quantidade = 0\n",
        "          break   "
      ],
      "execution_count": 0,
      "outputs": []
    }
  ]
}