{
  "nbformat": 4,
  "nbformat_minor": 0,
  "metadata": {
    "colab": {
      "name": "hello_world_topster_aula_2019-02-15.ipynb",
      "version": "0.3.2",
      "provenance": [],
      "collapsed_sections": []
    },
    "kernelspec": {
      "name": "python3",
      "display_name": "Python 3"
    }
  },
  "cells": [
    {
      "cell_type": "code",
      "metadata": {
        "id": "CW9tjktGU3o4",
        "colab_type": "code",
        "colab": {}
      },
      "source": [
        "#Código da aula de 2019-02-15\n",
        "\n",
        "\n",
        "nome = \"Meu nome é Gabriel rsrs\"\n",
        "\n",
        "sera_que_pergunto = True\n",
        "shippa = False\n",
        "\n",
        "if sera_que_pergunto:\n",
        " nome = input(\"Qual o seu nome?\")\n",
        " if shippa:\n",
        "  print(nome)\n",
        " else:\n",
        "  print(\"Levei fora kkkk gado dms\")\n",
        "  \n",
        "  \n",
        "else:\n",
        "  print(\"Moiô o bagui\")\n",
        "  \n",
        "print(\"Fin de cinema\")"
      ],
      "execution_count": 0,
      "outputs": []
    }
  ]
}