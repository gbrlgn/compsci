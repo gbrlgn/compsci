{
  "nbformat": 4,
  "nbformat_minor": 0,
  "metadata": {
    "colab": {
      "name": "brinque_aqui.ipynb",
      "version": "0.3.2",
      "provenance": []
    },
    "kernelspec": {
      "name": "python3",
      "display_name": "Python 3"
    }
  },
  "cells": [
    {
      "cell_type": "code",
      "metadata": {
        "id": "wtnJJAOGqpFb",
        "colab_type": "code",
        "colab": {}
      },
      "source": [
        "x = 1\n",
        "y = 10\n",
        "\n",
        "for res in range(x,y):\n",
        "  x += 1             "
      ],
      "execution_count": 0,
      "outputs": []
    }
  ]
}