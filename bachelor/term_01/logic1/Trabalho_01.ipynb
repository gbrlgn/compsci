{
  "nbformat": 4,
  "nbformat_minor": 0,
  "metadata": {
    "colab": {
      "name": "Trabalho_01.ipynb",
      "version": "0.3.2",
      "provenance": [],
      "collapsed_sections": []
    },
    "kernelspec": {
      "name": "python3",
      "display_name": "Python 3"
    }
  },
  "cells": [
    {
      "cell_type": "code",
      "metadata": {
        "id": "GrKonUM1Qe9O",
        "colab_type": "code",
        "colab": {}
      },
      "source": [
        "# TODO 01. faça a conversão do valor de entrada para o tipo de dado inteiro\n",
        "valor = int(input('Informe valor: '))\n",
        "\n",
        "# TODO 02. Verifique se o valor é menor igual que 80\n",
        "if valor <= 80:\n",
        "  print(\"O valor é menor ou igual a 80\")\n",
        "\n",
        "# TODO03. Adicione a estrutura condicional IF o envio da mensagem informando que o valor informado é maior que 80.\n",
        "else:\n",
        "  print(\"O valor informado é maior que 80\")\n",
        "\n",
        "# TODO 04. Envie uma mensagem de fim da execução do programa\n",
        "print(\"Fim da execução\")"
      ],
      "execution_count": 0,
      "outputs": []
    }
  ]
}