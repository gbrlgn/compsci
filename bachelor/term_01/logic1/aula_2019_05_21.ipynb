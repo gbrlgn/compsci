{
  "nbformat": 4,
  "nbformat_minor": 0,
  "metadata": {
    "colab": {
      "name": "aula_2019-05-21.ipynb",
      "version": "0.3.2",
      "provenance": [],
      "collapsed_sections": []
    },
    "kernelspec": {
      "name": "python3",
      "display_name": "Python 3"
    }
  },
  "cells": [
    {
      "cell_type": "code",
      "metadata": {
        "id": "Y5gkAmzD-19A",
        "colab_type": "code",
        "colab": {}
      },
      "source": [
        "def ola():\n",
        "  print(\"Olá mundo!\")\n",
        "  \n",
        "def avalia_idade():\n",
        "  idade = int(input(\"Qual a sua idade? \"))\n",
        "  if idade > 18:\n",
        "    print(\"Você tem mais de 18.\")\n",
        "  else:\n",
        "    print(\"Você é dimehnorrr.\")\n",
        "\n",
        "ola()\n",
        "avalia_idade()"
      ],
      "execution_count": 0,
      "outputs": []
    },
    {
      "cell_type": "code",
      "metadata": {
        "id": "GdAjay1zCVqd",
        "colab_type": "code",
        "colab": {}
      },
      "source": [
        "def saudacao(nome):\n",
        "  print(\"Olá, \", nome)\n",
        "  \n",
        "saudacao(\"Genivaldo\")"
      ],
      "execution_count": 0,
      "outputs": []
    },
    {
      "cell_type": "code",
      "metadata": {
        "id": "pit8MMuXC10u",
        "colab_type": "code",
        "colab": {}
      },
      "source": [
        "import numpy as np\n",
        "\n",
        "def f01(x):\n",
        "  return ((-2*x)-1)\n",
        "\n",
        "def f02(x):\n",
        "  return (2*x)+1\n",
        "\n",
        "def f00(x):\n",
        "  if x <= -2:\n",
        "    return f01(x)\n",
        "  if -2 < x and x < 1:\n",
        "    return 3\n",
        "  if 1 <= x:\n",
        "    return f02(x)\n",
        "\n",
        "x = np.arange(-10.,10.,0.001)\n",
        "y = []\n",
        "for v in x:\n",
        "  y.append(f00(v))\n",
        "  \n",
        "print(len(x))\n",
        "print(len(y))"
      ],
      "execution_count": 0,
      "outputs": []
    }
  ]
}