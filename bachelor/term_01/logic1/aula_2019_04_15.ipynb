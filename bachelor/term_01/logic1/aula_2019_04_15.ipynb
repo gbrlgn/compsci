{
  "nbformat": 4,
  "nbformat_minor": 0,
  "metadata": {
    "colab": {
      "name": "aula_2019-04-15.ipynb",
      "version": "0.3.2",
      "provenance": [],
      "collapsed_sections": []
    },
    "kernelspec": {
      "name": "python3",
      "display_name": "Python 3"
    }
  },
  "cells": [
    {
      "cell_type": "code",
      "metadata": {
        "id": "9U_xiH_zj10k",
        "colab_type": "code",
        "outputId": "9e4e75c6-751d-4d1e-f719-14c624c186a1",
        "colab": {
          "base_uri": "https://localhost:8080/"
        }
      },
      "source": [
        "#P01\n",
        "soma = 0\n",
        "qtd = 30 \n",
        "\n",
        "for lst in range(0,qtd,2):\n",
        "  soma += lst\n",
        "  \n",
        "print(soma)"
      ],
      "execution_count": 0,
      "outputs": [
        {
          "output_type": "stream",
          "text": [
            "210\n"
          ],
          "name": "stdout"
        }
      ]
    },
    {
      "cell_type": "code",
      "metadata": {
        "id": "Oxpz_4-BkKnr",
        "colab_type": "code",
        "colab": {}
      },
      "source": [
        "#P02\n",
        "\n",
        "lst = []\n",
        "\n",
        "while True:\n",
        "  nomes = input(\"Insira um nome para adicionar à lista: \")\n",
        "  \n",
        "  print(\"Digite 'fim' para retornar a lista\")\n",
        "  if nomes.upper() == \"FIM\":\n",
        "    print(\"Os nomes da lista são:{}. O total de caracteres de cada é:{}\".format(lst,[len(i) for i in lst]))\n",
        "    break\n",
        "  \n",
        "  lst.append(nomes)\n",
        "  \n",
        "print(\"Fim da aplicação.\")"
      ],
      "execution_count": 0,
      "outputs": []
    },
    {
      "cell_type": "code",
      "metadata": {
        "id": "ZJAdNTFPhc_K",
        "colab_type": "code",
        "colab": {}
      },
      "source": [
        "#P02 paralelo\n",
        "\n",
        "lst = []\n",
        "\n",
        "while True:\n",
        "  nomes = input(\"Insira um nome para adicionar à lista: \")\n",
        "  \n",
        "  print(\"Foram informados {] nome(s)\".format(len(lst)))\n",
        "  if nomes.upper() == \"FIM\":\n",
        "    break\n",
        "  lst.append(nomes)  \n",
        "    \n",
        "print(\"Os nomes da lista são: {}. O total de caracteres de cada é: {}\".format(lst,[len(i) for i in lst]))\n",
        "\n",
        "for i in lst:\n",
        "  print(\"Nome informado:{}, com {} letra(s)\".format(n, len(n)))\n",
        "  \n",
        "print(\"Fim da aplicação.\")"
      ],
      "execution_count": 0,
      "outputs": []
    }
  ]
}