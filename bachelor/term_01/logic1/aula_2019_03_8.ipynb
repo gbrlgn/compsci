{
  "nbformat": 4,
  "nbformat_minor": 0,
  "metadata": {
    "colab": {
      "name": "aula_2019-03-8.ipynb",
      "version": "0.3.2",
      "provenance": [],
      "collapsed_sections": []
    },
    "kernelspec": {
      "name": "python3",
      "display_name": "Python 3"
    }
  },
  "cells": [
    {
      "cell_type": "code",
      "metadata": {
        "id": "aItaOP9BvOpt",
        "colab_type": "code",
        "colab": {}
      },
      "source": [
        "for v in range(5):\n",
        "  print(v)\n",
        "  \n",
        "#Lê uma sequência de 5 a partir do 0, consequentemente excluindo o próprio 5"
      ],
      "execution_count": 0,
      "outputs": []
    },
    {
      "cell_type": "code",
      "metadata": {
        "id": "yzCt8evkyogh",
        "colab_type": "code",
        "colab": {}
      },
      "source": [
        "val = 5\n",
        "while True:\n",
        "  print(val)\n",
        "  val = val -1\n",
        "  if val == -1:\n",
        "    break\n",
        "\n",
        "#Lê em ordem descrescente até o break ou infinitamente"
      ],
      "execution_count": 0,
      "outputs": []
    },
    {
      "cell_type": "code",
      "metadata": {
        "id": "2BNgajdu0Mpf",
        "colab_type": "code",
        "colab": {}
      },
      "source": [
        "qtd = 0\n",
        "\n",
        "qtd = int(input(\"Informe\"))\n",
        "\n",
        "for v in range(qtd):\n",
        "  print(v)"
      ],
      "execution_count": 0,
      "outputs": []
    },
    {
      "cell_type": "code",
      "metadata": {
        "id": "pMHudqfz4Q7G",
        "colab_type": "code",
        "colab": {}
      },
      "source": [
        "soma_dentro = 0\n",
        "soma_fora = 0\n",
        "qtd_passos = 0\n",
        "\n",
        "qtd_passos = int(input(\"Informe número de passos\"))\n",
        "\n",
        "for v in range(qtd_passos):\n",
        "  valor = int(input(\"Informe o valor\"))\n",
        "  if valor in range(10,20):\n",
        "    soma_dentro += 1\n",
        "  else:\n",
        "    soma_fora += 1\n",
        "    \n",
        "print(\"Valor total de valores foi de\", soma_dentro)\n",
        "print(\"Fim\")"
      ],
      "execution_count": 0,
      "outputs": []
    }
  ]
}